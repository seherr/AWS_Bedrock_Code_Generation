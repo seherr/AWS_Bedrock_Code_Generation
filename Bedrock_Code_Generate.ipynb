{
 "cells": [
  {
   "cell_type": "code",
   "execution_count": 1,
   "id": "0838ed91",
   "metadata": {},
   "outputs": [],
   "source": [
    "import json\n",
    "import os\n",
    "import sys\n",
    "import csv\n",
    "\n",
    "import boto3\n",
    "\n",
    "module_path = \"..\"\n",
    "sys.path.append(os.path.abspath(module_path))\n",
    "\n",
    "bedrock_runtime = boto3.client(\n",
    "    service_name='bedrock-runtime', \n",
    "    aws_access_key_id=os.getenv('aws_access_key_id'),\n",
    "    aws_secret_access_key=os.getenv('aws_secret_access_key'),\n",
    "    region_name='us-west-2'\n",
    ")"
   ]
  },
  {
   "cell_type": "code",
   "execution_count": 2,
   "id": "501b481e",
   "metadata": {},
   "outputs": [
    {
     "name": "stdout",
     "output_type": "stream",
     "text": [
      "daily_temps.csv has been recorded!\n"
     ]
    }
   ],
   "source": [
    "weather_data = [\n",
    "    [\"date\", \"location_code\", \"max_temp\", \"min_temp\"],\n",
    "    [\"2023-01-01\", \"LOC001\", 68, 45],\n",
    "    [\"2023-01-02\", \"LOC002\", 70, 47],\n",
    "    [\"2023-01-03\", \"LOC001\", 65, 44],\n",
    "    [\"2023-01-04\", \"LOC003\", 72, 50],\n",
    "    [\"2023-01-05\", \"LOC001\", 68, 46],\n",
    "    [\"2023-01-06\", \"LOC002\", 71, 48],\n",
    "    [\"2023-01-07\", \"LOC003\", 73, 51],\n",
    "    [\"2023-01-08\", \"LOC001\", 66, 43],\n",
    "    [\"2023-01-09\", \"LOC002\", 70, 47],\n",
    "    [\"2023-01-10\", \"LOC003\", 74, 52],\n",
    "    [\"2023-01-11\", \"LOC001\", 67, 44],\n",
    "    [\"2023-01-12\", \"LOC002\", 69, 46],\n",
    "    [\"2023-01-13\", \"LOC001\", 64, 42],\n",
    "    [\"2023-01-14\", \"LOC003\", 71, 49],\n",
    "    [\"2023-01-15\", \"LOC001\", 66, 43],\n",
    "    [\"2023-01-16\", \"LOC002\", 68, 45],\n",
    "    [\"2023-01-17\", \"LOC003\", 72, 50],\n",
    "    [\"2023-01-18\", \"LOC001\", 65, 44],\n",
    "    [\"2023-01-19\", \"LOC002\", 67, 46],\n",
    "    [\"2023-01-20\", \"LOC003\", 70, 48],\n",
    "    [\"2023-01-21\", \"LOC001\", 63, 41],\n",
    "    [\"2023-01-22\", \"LOC002\", 66, 44],\n",
    "    [\"2023-01-23\", \"LOC003\", 69, 47],\n",
    "    [\"2023-01-24\", \"LOC001\", 62, 40],\n",
    "    [\"2023-01-25\", \"LOC002\", 65, 43],\n",
    "    [\"2023-01-26\", \"LOC003\", 68, 46],\n",
    "    [\"2023-01-27\", \"LOC001\", 61, 39],\n",
    "    [\"2023-01-28\", \"LOC002\", 64, 42],\n",
    "    [\"2023-01-29\", \"LOC003\", 67, 45],\n",
    "    [\"2023-01-30\", \"LOC001\", 60, 38],\n",
    "    [\"2023-01-31\", \"LOC002\", 63, 41],\n",
    "    [\"2023-02-01\", \"LOC003\", 66, 44],\n",
    "    [\"2023-05-24\", \"LOC001\", 75, 53],\n",
    "    [\"2023-05-25\", \"LOC002\", 78, 56]\n",
    "]\n",
    "\n",
    "# Record data to daily_temps.csv\n",
    "with open('daily_temps.csv', 'w', newline='') as csv_file:\n",
    "    weather_writer = csv.writer(csv_file)\n",
    "    weather_writer.writerows(weather_data)\n",
    "\n",
    "print(\"daily_temps.csv has been recorded!\")"
   ]
  },
  {
   "cell_type": "code",
   "execution_count": 3,
   "id": "3249d4be",
   "metadata": {},
   "outputs": [],
   "source": [
    "scenario_description = \"\"\"\n",
    "\n",
    "Human: Provided is a CSV file, daily_temps.csv, with the columns:\n",
    "- date (YYYY-MM-DD)\n",
    "- location_code\n",
    "- max_temp\n",
    "- min_temp\n",
    "\n",
    "Craft a python script to examine the weather data from the CSV file. The script should be able to read the data, and determine the following:\n",
    "\n",
    "- The average max temperature for the year\n",
    "- The location with the highest max temperature\n",
    "- The date with the largest temperature range\n",
    "- Visualize monthly average max temperatures using a bar chart\n",
    "\n",
    "Ensure the code is syntactically correct, error-free, optimized, does not span multiple lines unnecessarily, and prefer to use standard libraries. Provide only the python code without any surrounding text, explanation, or context. Note that list indices must be integers or slices, not float and make sure there are no division by zero errors. Make sure the averaging is done properly.\n",
    "\n",
    "Assistant:\n",
    "\"\"\""
   ]
  },
  {
   "cell_type": "code",
   "execution_count": 4,
   "id": "f1317d3e",
   "metadata": {},
   "outputs": [],
   "source": [
    "request_body = json.dumps({\n",
    "                    \"prompt\": scenario_description,\n",
    "                    \"max_tokens_to_sample\":4096,\n",
    "                    \"temperature\":0.5,\n",
    "                    \"top_k\":250,\n",
    "                    \"top_p\":0.5,\n",
    "                    \"stop_sequences\": [\"\\n\\nHuman:\"]\n",
    "                  }) "
   ]
  },
  {
   "cell_type": "code",
   "execution_count": 5,
   "id": "ab7089a0",
   "metadata": {},
   "outputs": [
    {
     "name": "stdout",
     "output_type": "stream",
     "text": [
      " Here is the Python code to analyze the weather data in daily_temps.csv:\n",
      "\n",
      "```python\n",
      "import csv\n",
      "from datetime import datetime\n",
      "import matplotlib.pyplot as plt\n",
      "\n",
      "temps = []\n",
      "with open('daily_temps.csv', 'r') as f:\n",
      "    reader = csv.reader(f)\n",
      "    next(reader)\n",
      "    for row in reader:\n",
      "        date = datetime.strptime(row[0], '%Y-%m-%d')\n",
      "        month = date.month\n",
      "        max_temp = float(row[2])\n",
      "        min_temp = float(row[3])\n",
      "        temps.append([month, max_temp])\n",
      "\n",
      "max_temps = [row[1] for row in temps]\n",
      "avg_max = sum(max_temps) / len(max_temps)\n",
      "\n",
      "max_by_loc = {}\n",
      "for row in temps:\n",
      "    if row[0] not in max_by_loc:\n",
      "        max_by_loc[row[0]] = row[1]\n",
      "    else:\n",
      "        max_by_loc[row[0]] = max(max_by_loc[row[0]], row[1])\n",
      "\n",
      "max_loc = max(max_by_loc, key=max_by_loc.get)\n",
      "\n",
      "max_range = max([row[1] - row[2] for row in temps])\n",
      "\n",
      "month_avgs = {i:0 for i in range(1,13)}\n",
      "for row in temps:\n",
      "    month_avgs[row[0]] += row[1]\n",
      "for i in month_avgs:\n",
      "    month_avgs[i] /= len([row for row in temps if row[0]==i])\n",
      "\n",
      "plt.bar(month_avgs.keys(), month_avgs.values())\n",
      "plt.show()\n",
      "```\n"
     ]
    }
   ],
   "source": [
    "modelId = 'anthropic.claude-v2'\n",
    "accept = 'application/json'\n",
    "contentType = 'application/json'\n",
    "\n",
    "model_response = bedrock_runtime.invoke_model(body=request_body, modelId=modelId, accept=accept, contentType=contentType)\n",
    "response_contents = json.loads(model_response.get('body').read())\n",
    "\n",
    "print(response_contents.get('completion'))"
   ]
  },
  {
   "cell_type": "code",
   "execution_count": 6,
   "id": "4b832a24",
   "metadata": {},
   "outputs": [
    {
     "data": {
      "image/png": "[encoded data removed]",
      "text/plain": [
       "<Figure size 432x288 with 1 Axes>"
      ]
     },
     "metadata": {
      "needs_background": "light"
     },
     "output_type": "display_data"
    }
   ],
   "source": [
    "import csv\n",
    "from datetime import datetime\n",
    "import matplotlib.pyplot as plt\n",
    "\n",
    "temps = []\n",
    "with open('daily_temps.csv', 'r') as f:\n",
    "    reader = csv.reader(f)\n",
    "    next(reader)\n",
    "    for row in reader:\n",
    "        date = datetime.strptime(row[0], '%Y-%m-%d')\n",
    "        location = row[1]\n",
    "        max_temp = int(row[2])\n",
    "        min_temp = int(row[3])\n",
    "        temps.append([date, location, max_temp, min_temp])\n",
    "\n",
    "max_temps = [row[2] for row in temps]\n",
    "avg_max = sum(max_temps) / len(max_temps)\n",
    "\n",
    "max_by_location = {}\n",
    "for row in temps:\n",
    "    if row[1] not in max_by_location:\n",
    "        max_by_location[row[1]] = row[2]\n",
    "    else:\n",
    "        max_by_location[row[1]] = max(max_by_location[row[1]], row[2])\n",
    "max_loc = max(max_by_location, key=max_by_location.get)\n",
    "\n",
    "max_range = max([row[2] - row[3] for row in temps])\n",
    "max_range_day = [row for row in temps if row[2] - row[3] == max_range][0][0]\n",
    "\n",
    "monthly_avgs = {i:[] for i in range(1,13)}\n",
    "for row in temps:\n",
    "    month = row[0].month\n",
    "    monthly_avgs[month].append(row[2])\n",
    "\n",
    "plt.bar(range(1,13), [sum(m)/len(m) if len(m) > 0 else 0 for m in monthly_avgs.values()])\n",
    "plt.show()"
   ]
  },
  {
   "cell_type": "code",
   "execution_count": null,
   "id": "c38358f4",
   "metadata": {},
   "outputs": [],
   "source": []
  }
 ],
 "metadata": {
  "kernelspec": {
   "display_name": "Python 3 (ipykernel)",
   "language": "python",
   "name": "python3"
  },
  "language_info": {
   "codemirror_mode": {
    "name": "ipython",
    "version": 3
   },
   "file_extension": ".py",
   "mimetype": "text/x-python",
   "name": "python",
   "nbconvert_exporter": "python",
   "pygments_lexer": "ipython3",
   "version": "3.9.7"
  }
 },
 "nbformat": 4,
 "nbformat_minor": 5
}
